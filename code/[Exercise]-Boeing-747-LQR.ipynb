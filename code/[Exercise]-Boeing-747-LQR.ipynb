{
 "cells": [
  {
   "cell_type": "markdown",
   "metadata": {},
   "source": [
    "# **Boeing 747 lateral model LQR controller**"
   ]
  },
  {
   "cell_type": "markdown",
   "metadata": {},
   "source": [
    "The complete lateral model of a Boeing 747 is\n",
    "\\begin{align}\n",
    "    &\\dot{x}(t) = Ax(t) + Bu(t) \\\\\n",
    "    &y(t) = Cx(t) + Du(t)\n",
    "\\end{align}\n",
    "where\n",
    "\\begin{equation}\n",
    "A = \n",
    "    \\begin{bmatrix}\n",
    "        -10 & 0 & 0 & 0 & 0 & 0 \\\\\n",
    "        0.0729 & -0.0558 & -0.997 & 0.0802 & 0.0415 & 0 \\\\\n",
    "        -4.75 & 0.598 & -0.115 & -0.0318 & 0 & 0 \\\\\n",
    "        1.53 & -3.05 & 0.388 & -0.465 & 0 & 0 \\\\\n",
    "        0 & 0 & 0.0805 & 1 & 0 & 0 \\\\\n",
    "        0 & 0 & 1 & 0 & 0 & -0.3333 \\\\\n",
    "    \\end{bmatrix}\n",
    "    , \\; B =\n",
    "    \\begin{bmatrix}\n",
    "        1\\\\ 0\\\\ 0\\\\ 0\\\\ 0\\\\ 0\\\\\n",
    "    \\end{bmatrix}\n",
    "\\end{equation}\n",
    "and\n",
    "\\begin{equation}\n",
    "    \\begin{bmatrix}\n",
    "        0 & 0 & 1 & 0 & 0 & -0.3333\n",
    "    \\end{bmatrix}\n",
    "    , \\; D=0\n",
    "\\end{equation}\n",
    "\n",
    "Minimize the sum of the energy of the output y and the energy of the control u. The main effort is to minimize the energy of y which is supposed to be zero in a steady state condition. So we put a weight $q = 9.527 > 1$ on the energy of y. The problem now is as follows.\n",
    "\n",
    "\\begin{align}\n",
    "    &u^* := argmin_{u:[0,\\infty) \\to \\mathbb{R}} J(u) := \\int_0^\\infty [qy(t)^Ty(t) + u(t)^2] dt \\\\\n",
    "    &\\text{subject to}\\\\\n",
    "    &\\dot{x}(t) = Ax(t) + Bu(t), \\; t \\in [t_0, \\infty) \\\\\n",
    "    &y(t) = Cx(t) + Du(t), \\; t \\in [t_0, \\infty) \\\\\n",
    "    &x(t_0) = x_0\n",
    "\\end{align}\n",
    "\n",
    "**Tasks:**\n",
    "\n",
    "1. Find an optimal policy for the LQR problem by solving ARE using Python or Matlab functions.\n",
    "2. Plot trajectories of $y(t)$ and $u(t)$.\n",
    "3. In the answer, please include your Python or Matlab codes."
   ]
  },
  {
   "cell_type": "markdown",
   "metadata": {},
   "source": [
    "## LQR controller in Python"
   ]
  },
  {
   "cell_type": "markdown",
   "metadata": {},
   "source": [
    "We use Python because of:\n",
    "- Totally open source environment\n",
    "- More suitable to research"
   ]
  },
  {
   "cell_type": "code",
   "execution_count": 1,
   "metadata": {},
   "outputs": [],
   "source": [
    "import numpy as np\n",
    "import torch\n",
    "import scipy.linalg\n",
    " \n",
    "def LQR(A,B,Q,R):\n",
    "    \"\"\"Solve the continuous time lqr controller.\n",
    "\n",
    "    dx/dt = A x + B u\n",
    "\n",
    "    cost = integral x.T*Q*x + u.T*R*u\n",
    "    \"\"\"\n",
    "    #ref Bertsekas, p.151\n",
    "\n",
    "    #first, try to solve the ricatti equation\n",
    "    X = np.matrix(scipy.linalg.solve_continuous_are(A, B, Q, R))\n",
    "\n",
    "    #compute the LQR gain\n",
    "    K = np.matrix(scipy.linalg.inv(R)*(B.T*X))\n",
    "\n",
    "    eigVals, eigVecs = scipy.linalg.eig(A-B*K)\n",
    "\n",
    "    return K, X, eigVals"
   ]
  },
  {
   "cell_type": "markdown",
   "metadata": {},
   "source": [
    "## System definition"
   ]
  },
  {
   "cell_type": "markdown",
   "metadata": {},
   "source": [
    "We define the system with matrices (with numpy first to solve with scipy)"
   ]
  },
  {
   "cell_type": "code",
   "execution_count": 32,
   "metadata": {},
   "outputs": [
    {
     "name": "stdout",
     "output_type": "stream",
     "text": [
      "A:\n",
      " [[-10.       0.       0.       0.       0.       0.    ]\n",
      " [  0.0729  -0.0558  -0.997    0.0802   0.0415   0.    ]\n",
      " [ -4.75     0.598   -0.115   -0.0318   0.       0.    ]\n",
      " [  1.53    -3.05     0.388   -0.465    0.       0.    ]\n",
      " [  0.       0.       0.0805   1.       0.       0.    ]\n",
      " [  0.       0.       1.       0.       0.      -0.3333]]\n",
      "B:\n",
      " [[1]\n",
      " [0]\n",
      " [0]\n",
      " [0]\n",
      " [0]\n",
      " [0]]\n",
      "C:\n",
      " [[ 0.      0.      1.      0.      0.     -0.3333]]\n",
      "D:\n",
      " [[0.]]\n"
     ]
    }
   ],
   "source": [
    "# Build matrices\n",
    "A = np.matrix([[-10, 0, 0, 0, 0, 0],\n",
    "              [0.0729, -0.0558, -0.997, 0.0802, 0.0415, 0],\n",
    "              [-4.75, 0.598, -0.115, -0.0318, 0, 0],\n",
    "              [1.53, -3.05, 0.388, -0.465, 0, 0],\n",
    "              [0, 0, 0.0805, 1, 0, 0],\n",
    "              [0, 0, 1, 0, 0, -0.3333]])\n",
    "B = np.matrix([[1], [0], [0], [0], [0], [0]])\n",
    "C = np.matrix([0, 0, 1, 0, 0, -0.3333])\n",
    "D = 0*np.eye(1)\n",
    "print('A:\\n', A)\n",
    "print('B:\\n', B)\n",
    "print('C:\\n', C)\n",
    "print('D:\\n', D)"
   ]
  },
  {
   "cell_type": "markdown",
   "metadata": {},
   "source": [
    "We can rewrite $Q$ as: $C^T q C$ due to the cost function where $q = 9.527$ while $R = 1$"
   ]
  },
  {
   "cell_type": "markdown",
   "metadata": {},
   "source": []
  },
  {
   "cell_type": "code",
   "execution_count": 49,
   "metadata": {},
   "outputs": [
    {
     "name": "stdout",
     "output_type": "stream",
     "text": [
      "Q:\n",
      " [[ 0.          0.          0.          0.          0.          0.        ]\n",
      " [ 0.          0.          0.          0.          0.          0.        ]\n",
      " [ 0.          0.          9.527       0.          0.         -3.1753491 ]\n",
      " [ 0.          0.          0.          0.          0.          0.        ]\n",
      " [ 0.          0.          0.          0.          0.          0.        ]\n",
      " [ 0.          0.         -3.1753491   0.          0.          1.05834386]]\n",
      "R:\n",
      " [[1.]]\n"
     ]
    }
   ],
   "source": [
    "# Choose Q and R matrices for control (trial and error)\n",
    "q = 9.527\n",
    "Q = C.T*q*C\n",
    "R = np.eye(1)\n",
    "print('Q:\\n', Q)\n",
    "print('R:\\n', R)"
   ]
  },
  {
   "cell_type": "code",
   "execution_count": 50,
   "metadata": {},
   "outputs": [
    {
     "name": "stdout",
     "output_type": "stream",
     "text": [
      "K = [[ 1.05951967 -0.19104882 -2.31972318  0.09916995  0.03704914  0.48581648]]\n",
      "\n",
      "X = [[ 1.05951967 -0.19104882 -2.31972318  0.09916995  0.03704914  0.48581648]\n",
      " [-0.19104882  3.12369252  0.1269728  -0.03823677  0.01653782 -0.33933894]\n",
      " [-2.31972318  0.1269728   5.54522022 -0.20196413 -0.07828093 -1.22398629]\n",
      " [ 0.09916995 -0.03823677 -0.20196413  0.05937891  0.02917266 -0.16625979]\n",
      " [ 0.03704914  0.01653782 -0.07828093  0.02917266  0.01501061 -0.09625457]\n",
      " [ 0.48581648 -0.33933894 -1.22398629 -0.16625979 -0.09625457  1.23361266]]\n",
      "\n",
      "Eigenvalues = [-9.89079977e+00+0.j       -1.10623057e+00+0.j\n",
      " -2.79315485e-01+0.628216j -2.79315485e-01-0.628216j\n",
      " -5.06061786e-03+0.j       -4.67897741e-01+0.j      ]\n",
      "\n"
     ]
    }
   ],
   "source": [
    "K, X, eigVals = LQR(A, B, Q, R)\n",
    "print(('K = {}\\n').format(K))\n",
    "print(('X = {}\\n').format(X))\n",
    "print(('Eigenvalues = {}\\n').format(eigVals))"
   ]
  },
  {
   "cell_type": "code",
   "execution_count": 114,
   "metadata": {},
   "outputs": [],
   "source": [
    "\n",
    "class ControlledBoeing747():\n",
    "    def __init__(self, A, B, C, D, dt = 0.02):\n",
    "        \"\"\" Simulate the system by calculating the state \n",
    "        variation with: x_{t+1} = x_t + dx*dt\n",
    "        where dx = Ax + Bu and y = Cx +Du\n",
    "        \n",
    "        The variables are:\n",
    "        dt: time step (i.e. 0.02s) to forward propagate the simulation\n",
    "        x: current state\n",
    "        A, B, C, D: matrices describing the dynamics\n",
    "        \"\"\"\n",
    "        self.dt = dt # Time step, i.e. 0.02s\n",
    "        self.A = A\n",
    "        self.B = B\n",
    "        self.C = C\n",
    "        self.D = D\n",
    "    \n",
    "    # Simulate next step\n",
    "    def step(self, u):\n",
    "        dx = A*self.x + B*u\n",
    "        self.x += dx*self.dt # x_{t+1} = x_t + dx*dt\n",
    "        output = C*self.x + D*u\n",
    "        return self.x, output\n",
    "    \n",
    "    # Reset to initial position\n",
    "    def reset(self, x_initial= \n",
    "              np.matrix(np.random.uniform(-0.1, 0.1, size=6)).T):\n",
    "        self.x = x_initial\n",
    "        return self.x"
   ]
  },
  {
   "cell_type": "code",
   "execution_count": 116,
   "metadata": {},
   "outputs": [
    {
     "data": {
      "text/plain": [
       "matrix([[ 0.03378645],\n",
       "        [-0.02647147],\n",
       "        [-0.04658674],\n",
       "        [ 0.04932416],\n",
       "        [-0.07232754],\n",
       "        [ 0.04527723]])"
      ]
     },
     "execution_count": 116,
     "metadata": {},
     "output_type": "execute_result"
    }
   ],
   "source": [
    "model = ControlledBoeing747(A, B, C, D)\n",
    "# Initial condition\n",
    "x0 = np.matrix(np.random.uniform(-0.1, 0.1, size=6)).T\n",
    "model.reset(x_initial=x0)"
   ]
  },
  {
   "cell_type": "code",
   "execution_count": 135,
   "metadata": {},
   "outputs": [
    {
     "data": {
      "text/plain": [
       "(matrix([[ 9.90457622e-02],\n",
       "         [ 1.85531253e-02],\n",
       "         [-1.94432582e-01],\n",
       "         [ 8.10469231e-02],\n",
       "         [-4.97862202e-02],\n",
       "         [ 1.50279264e-04]]),\n",
       " matrix([[-0.19448267]]))"
      ]
     },
     "execution_count": 135,
     "metadata": {},
     "output_type": "execute_result"
    }
   ],
   "source": [
    "# Input check\n",
    "model.step(np.array([[1]]))"
   ]
  },
  {
   "cell_type": "markdown",
   "metadata": {},
   "source": [
    "Now we can plug in the control input. The optimal control input is given by $u^*(t) = -K x$ where $K$ is the gain we have previously found and $x$ is the current state. "
   ]
  },
  {
   "cell_type": "code",
   "execution_count": 218,
   "metadata": {},
   "outputs": [],
   "source": [
    "# x is the state space, y is the output\n",
    "x0 = np.matrix(np.random.uniform(-0.5, 0.5, size=6)).T\n",
    "x = model.reset(x_initial=x0) # first state is the initial state\n",
    "\n",
    "# Save trajectory for the graph\n",
    "trajectory_state = []\n",
    "trajectory_outputs = []\n",
    "controls = []\n",
    "\n",
    "# Control loop (each loop is 0.02s of simulation)\n",
    "for i in range(1000):\n",
    "    u = - K*x  # the control input is u* = -Kx\n",
    "    x, y = model.step(u) # propagate\n",
    "    trajectory_state.append(x)\n",
    "    trajectory_outputs.append(y)\n",
    "    controls.append(u)"
   ]
  },
  {
   "cell_type": "markdown",
   "metadata": {},
   "source": [
    "### Output plot"
   ]
  },
  {
   "cell_type": "code",
   "execution_count": 228,
   "metadata": {},
   "outputs": [
    {
     "data": {
      "image/png": "[encoded data removed]",
      "text/plain": [
       "<Figure size 1152x576 with 1 Axes>"
      ]
     },
     "metadata": {
      "needs_background": "light"
     },
     "output_type": "display_data"
    }
   ],
   "source": [
    "# Trajectory plotting\n",
    "import matplotlib.pyplot as plt\n",
    "\n",
    "tau = 0.02 # time of system update\n",
    "tot_time = tau*len(trajectory_outputs)\n",
    "t = np.linspace(0, tot_time, len(trajectory_outputs)) # time\n",
    "\n",
    "y, u = [], []\n",
    "for i in range(len(trajectory_outputs)):\n",
    "    y.append(trajectory_outputs[i].item())\n",
    "    u.append(controls[i].item())\n",
    "\n",
    "fig, ax = plt.subplots(1,1, figsize=(16, 8))\n",
    "ax.plot(t, y, \"k\", alpha=.8, label=r'$y(t)$')\n",
    "ax.plot([0, tot_time], [0, 0], \":b\", alpha=.5, label=r'Setpoint')\n",
    "ax.legend(loc='upper right')\n",
    "ax.set_xlabel(r'Time [$s$]')\n",
    "ax.set_ylabel(r'Value')\n",
    "ax.set_title(\"Output $y(t)$ plot\")\n",
    "fig.savefig('images/boeing_output.jpg')"
   ]
  },
  {
   "cell_type": "markdown",
   "metadata": {},
   "source": [
    "### Control input plot"
   ]
  },
  {
   "cell_type": "code",
   "execution_count": 227,
   "metadata": {},
   "outputs": [
    {
     "data": {
      "image/png": "[encoded data removed]",
      "text/plain": [
       "<Figure size 1152x576 with 1 Axes>"
      ]
     },
     "metadata": {
      "needs_background": "light"
     },
     "output_type": "display_data"
    }
   ],
   "source": [
    "fig, ax = plt.subplots(1,1, figsize=(16, 8))\n",
    "ax.plot(t, u, \"r\", alpha=.8,label=r'$u(t)$')\n",
    "ax.plot([0, tot_time], [0, 0], \":b\", alpha=.5, label=r'Setpoint')\n",
    "ax.legend(loc='upper right')\n",
    "ax.set_xlabel(r'Time [$s$]')\n",
    "ax.set_ylabel(r'Value')\n",
    "ax.set_title(r\"Control input $u(t)$ plot\")\n",
    "fig.savefig('images/boeing_input.jpg')"
   ]
  }
 ],
 "metadata": {
  "kernelspec": {
   "display_name": "Python 3",
   "language": "python",
   "name": "python3"
  },
  "language_info": {
   "codemirror_mode": {
    "name": "ipython",
    "version": 3
   },
   "file_extension": ".py",
   "mimetype": "text/x-python",
   "name": "python",
   "nbconvert_exporter": "python",
   "pygments_lexer": "ipython3",
   "version": "3.8.5"
  }
 },
 "nbformat": 4,
 "nbformat_minor": 4
}
